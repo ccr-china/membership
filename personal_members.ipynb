{
 "cells": [
  {
   "cell_type": "code",
   "execution_count": 1,
   "metadata": {
    "ExecuteTime": {
     "end_time": "2019-10-14T05:09:09.588588Z",
     "start_time": "2019-10-14T05:09:07.136666Z"
    }
   },
   "outputs": [],
   "source": [
    "import pandas as pd"
   ]
  },
  {
   "cell_type": "code",
   "execution_count": 3,
   "metadata": {
    "ExecuteTime": {
     "end_time": "2019-10-14T05:09:49.926434Z",
     "start_time": "2019-10-14T05:09:49.910147Z"
    }
   },
   "outputs": [
    {
     "data": {
      "text/html": [
       "<div>\n",
       "<style scoped>\n",
       "    .dataframe tbody tr th:only-of-type {\n",
       "        vertical-align: middle;\n",
       "    }\n",
       "\n",
       "    .dataframe tbody tr th {\n",
       "        vertical-align: top;\n",
       "    }\n",
       "\n",
       "    .dataframe thead th {\n",
       "        text-align: right;\n",
       "    }\n",
       "</style>\n",
       "<table border=\"1\" class=\"dataframe\">\n",
       "  <thead>\n",
       "    <tr style=\"text-align: right;\">\n",
       "      <th></th>\n",
       "      <th>姓名</th>\n",
       "      <th>单位</th>\n",
       "      <th>身份</th>\n",
       "    </tr>\n",
       "  </thead>\n",
       "  <tbody>\n",
       "    <tr>\n",
       "      <th>0</th>\n",
       "      <td>蒋俏蕾</td>\n",
       "      <td>清华大学</td>\n",
       "      <td>副教授</td>\n",
       "    </tr>\n",
       "    <tr>\n",
       "      <th>1</th>\n",
       "      <td>李长旭</td>\n",
       "      <td>北京大学</td>\n",
       "      <td>硕士</td>\n",
       "    </tr>\n",
       "    <tr>\n",
       "      <th>2</th>\n",
       "      <td>刘建国</td>\n",
       "      <td>上海财经大学</td>\n",
       "      <td>教授</td>\n",
       "    </tr>\n",
       "    <tr>\n",
       "      <th>3</th>\n",
       "      <td>彭泰权</td>\n",
       "      <td>密歇根州立大学</td>\n",
       "      <td>副教授</td>\n",
       "    </tr>\n",
       "    <tr>\n",
       "      <th>4</th>\n",
       "      <td>司峥鸣</td>\n",
       "      <td>哈尔滨工业大学</td>\n",
       "      <td>副教授</td>\n",
       "    </tr>\n",
       "  </tbody>\n",
       "</table>\n",
       "</div>"
      ],
      "text/plain": [
       "    姓名       单位    身份\n",
       "0  蒋俏蕾     清华大学   副教授\n",
       "1  李长旭     北京大学    硕士\n",
       "2  刘建国   上海财经大学    教授\n",
       "3  彭泰权  密歇根州立大学  副教授 \n",
       "4  司峥鸣  哈尔滨工业大学   副教授"
      ]
     },
     "execution_count": 3,
     "metadata": {},
     "output_type": "execute_result"
    }
   ],
   "source": [
    "df = pd.read_excel('personal_members.xlsx')\n",
    "\n",
    "df.head()"
   ]
  },
  {
   "cell_type": "code",
   "execution_count": 4,
   "metadata": {
    "ExecuteTime": {
     "end_time": "2019-10-14T05:21:52.953532Z",
     "start_time": "2019-10-14T05:21:52.950983Z"
    }
   },
   "outputs": [],
   "source": [
    "a = \"\"\"<!DOCTYPE html>\n",
    "<html>\n",
    "<head>\n",
    "  <meta charset=\"utf-8\">\n",
    "  <meta name=\"viewport\" content=\"width=device-width\">\n",
    "  <link href=\"https://maxcdn.bootstrapcdn.com/font-awesome/4.7.0/css/font-awesome.min.css\" rel=\"stylesheet\">\n",
    "  <link rel=\"stylesheet\" type=\"text/css\" href=\"main.css\">\n",
    "  <title>profile-card</title>\n",
    "</head>\n",
    "<body>\n",
    "  <div class=\"profile-card\">\n",
    "    <div class=\"head\">\n",
    "          <div class=\"profile-image\">\n",
    "            <img src=\"assets/member.jpg\" alt=\"Kovรกcs Bea photo\">\n",
    "          </div>\n",
    "\"\"\""
   ]
  },
  {
   "cell_type": "code",
   "execution_count": 8,
   "metadata": {
    "ExecuteTime": {
     "end_time": "2019-10-14T05:24:05.061454Z",
     "start_time": "2019-10-14T05:24:05.058774Z"
    }
   },
   "outputs": [],
   "source": [
    "c = \"\"\"      <section class=\"links\">\n",
    "          <nav>\n",
    "            <ul>\n",
    "              <li><i class=\"fa fa-home\"></i><a href=\"index.html\"></a></li>\n",
    "              <li><i class=\"fa fa-twitter\"></i><a href=\"https://twitter.com/\"></a></li>\n",
    "              <li><i class=\"fa fa-instagram\"></i><a href=\"https://www.instagram.com/\"></a></li>\n",
    "              <li><i class=\"fa fa-github\"></i><a href=\"https://github.com/\"></a></li>\n",
    "              <li><i class=\"fa fa-linkedin\"></i><a href=\"https://www.linkedin.com/\"></a></li>\n",
    "           </ul>\n",
    "         </nav>\n",
    "      </section>\n",
    "    </div>\n",
    "  </div>\n",
    "</body>\n",
    "</html>\n",
    "\"\"\""
   ]
  },
  {
   "cell_type": "code",
   "execution_count": 10,
   "metadata": {
    "ExecuteTime": {
     "end_time": "2019-10-14T05:24:25.692432Z",
     "start_time": "2019-10-14T05:24:25.689788Z"
    }
   },
   "outputs": [],
   "source": [
    "\n",
    "b = \"\"\"    <h1>name</h1>\n",
    "           <p><i class=\"fa fa-globe\"></i>  org</p>\n",
    "    </div>\n",
    "    <div class=\"content\">\n",
    "      <p class=\"email\">identity</p>\n",
    "\"\"\""
   ]
  },
  {
   "cell_type": "markdown",
   "metadata": {},
   "source": [
    "\n",
    "\n",
    "b\n"
   ]
  },
  {
   "cell_type": "code",
   "execution_count": 12,
   "metadata": {
    "ExecuteTime": {
     "end_time": "2019-10-14T05:24:35.161937Z",
     "start_time": "2019-10-14T05:24:35.158973Z"
    }
   },
   "outputs": [
    {
     "name": "stdout",
     "output_type": "stream",
     "text": [
      "    <h1>name</h1>\n",
      "           <p><i class=\"fa fa-globe\"></i>  org</p>\n",
      "    </div>\n",
      "    <div class=\"content\">\n",
      "      <p class=\"email\">identity</p>\n",
      "\n"
     ]
    }
   ],
   "source": [
    "print(b)"
   ]
  },
  {
   "cell_type": "code",
   "execution_count": 25,
   "metadata": {
    "ExecuteTime": {
     "end_time": "2019-10-14T05:32:07.002524Z",
     "start_time": "2019-10-14T05:32:06.937411Z"
    }
   },
   "outputs": [],
   "source": [
    "for i in df.index:\n",
    "    name, org, identity = df['姓名'][i], df['单位'][i], df['身份'][i]\n",
    "    b1 = '    <h1>' + name + '</h1>\\n'\n",
    "    b2 = '           <p><i class=\"fa fa-globe\"></i>' + org + '</p>'\n",
    "    b3 = \"\"\"    </div>\n",
    "    <div class=\"content\">\n",
    "      <p class=\"email\">\"\"\"\n",
    "    b3 = b3 + identity + '</p>\\n'\n",
    "    html = a + b1 + b2 + b3 + c\n",
    "    with open(name + '.html', 'w') as f:\n",
    "        for j in html:\n",
    "            f.write(j)"
   ]
  },
  {
   "cell_type": "code",
   "execution_count": null,
   "metadata": {},
   "outputs": [],
   "source": []
  }
 ],
 "metadata": {
  "kernelspec": {
   "display_name": "Python 3",
   "language": "python",
   "name": "python3"
  },
  "language_info": {
   "codemirror_mode": {
    "name": "ipython",
    "version": 3
   },
   "file_extension": ".py",
   "mimetype": "text/x-python",
   "name": "python",
   "nbconvert_exporter": "python",
   "pygments_lexer": "ipython3",
   "version": "3.7.3"
  },
  "latex_envs": {
   "LaTeX_envs_menu_present": true,
   "autoclose": false,
   "autocomplete": true,
   "bibliofile": "biblio.bib",
   "cite_by": "apalike",
   "current_citInitial": 1,
   "eqLabelWithNumbers": true,
   "eqNumInitial": 1,
   "hotkeys": {
    "equation": "Ctrl-E",
    "itemize": "Ctrl-I"
   },
   "labels_anchors": false,
   "latex_user_defs": false,
   "report_style_numbering": false,
   "user_envs_cfg": false
  },
  "toc": {
   "base_numbering": 1,
   "nav_menu": {},
   "number_sections": false,
   "sideBar": true,
   "skip_h1_title": false,
   "title_cell": "Table of Contents",
   "title_sidebar": "Contents",
   "toc_cell": false,
   "toc_position": {},
   "toc_section_display": true,
   "toc_window_display": false
  }
 },
 "nbformat": 4,
 "nbformat_minor": 2
}
